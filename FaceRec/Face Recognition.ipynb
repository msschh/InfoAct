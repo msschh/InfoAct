{
 "cells": [
  {
   "cell_type": "code",
   "execution_count": 1,
   "metadata": {},
   "outputs": [],
   "source": [
    "import math\n",
    "from sklearn import neighbors, svm\n",
    "import os\n",
    "import os.path\n",
    "import pickle\n",
    "from PIL import Image, ImageDraw\n",
    "import face_recognition\n",
    "from face_recognition.face_recognition_cli import image_files_in_folder"
   ]
  },
  {
   "cell_type": "code",
   "execution_count": 28,
   "metadata": {},
   "outputs": [],
   "source": [
    "train_dir = \"ActorsDataset\"\n",
    "\n",
    "#imgX = []\n",
    "#imgY = []\n",
    "trainX = []\n",
    "trainY = []\n",
    "testX = []\n",
    "testY = []"
   ]
  },
  {
   "cell_type": "code",
   "execution_count": 30,
   "metadata": {},
   "outputs": [],
   "source": [
    "for class_dir in os.listdir(train_dir):\n",
    "\n",
    "    nr = 0\n",
    "    for img_path in image_files_in_folder(os.path.join(train_dir, class_dir)):\n",
    "        \n",
    "        image = face_recognition.load_image_file(img_path)\n",
    "        face_bounding_boxes = face_recognition.face_locations(image)\n",
    "\n",
    "        if len(face_bounding_boxes) == 1:\n",
    "            #imgX.append(face_recognition.face_encodings(image, known_face_locations=face_bounding_boxes)[0])\n",
    "            #imgY.append(class_dir)\n",
    "            if nr < 30:\n",
    "                testX.append(face_recognition.face_encodings(image, known_face_locations=face_bounding_boxes)[0])\n",
    "                testY.append(class_dir)\n",
    "            else:\n",
    "                trainX.append(face_recognition.face_encodings(image, known_face_locations=face_bounding_boxes)[0])\n",
    "                trainY.append(class_dir)\n",
    "            nr = nr + 1"
   ]
  },
  {
   "cell_type": "code",
   "execution_count": 31,
   "metadata": {},
   "outputs": [],
   "source": [
    "#n = len(imgX)\n",
    "#print(n)"
   ]
  },
  {
   "cell_type": "code",
   "execution_count": 32,
   "metadata": {},
   "outputs": [],
   "source": [
    "#import numpy as np\n",
    "#perm = np.random.permutation(n)\n",
    "#imgX = imgX[perm]\n",
    "#imgY = imgY[perm]\n",
    "#testX = imgX[0:3000]\n",
    "#testY = imgY[0:3000]\n",
    "#trainX = imgX[3000:]\n",
    "#trainY = imgY[3000:]"
   ]
  },
  {
   "cell_type": "code",
   "execution_count": 33,
   "metadata": {},
   "outputs": [
    {
     "name": "stdout",
     "output_type": "stream",
     "text": [
      "7654\n",
      "7654\n",
      "3000\n",
      "3000\n"
     ]
    }
   ],
   "source": [
    "print(len(trainX))\n",
    "print(len(trainY))\n",
    "print(len(testX))\n",
    "print(len(testY))"
   ]
  },
  {
   "cell_type": "code",
   "execution_count": 46,
   "metadata": {},
   "outputs": [],
   "source": [
    "def trainKNN(model_save_path=None, n_neighbors=None, knn_algo='ball_tree'):\n",
    "    \n",
    "    if n_neighbors is None:\n",
    "        n_neighbors = int(round(math.sqrt(len(trainX))))\n",
    "\n",
    "    knn_clf = neighbors.KNeighborsClassifier(n_neighbors=n_neighbors, algorithm=knn_algo, weights='distance')\n",
    "    knn_clf.fit(trainX, trainY)\n",
    "\n",
    "    if model_save_path is not None:\n",
    "        with open(model_save_path, 'wb') as f:\n",
    "            pickle.dump(knn_clf, f)\n",
    "\n",
    "    return knn_clf"
   ]
  },
  {
   "cell_type": "code",
   "execution_count": 50,
   "metadata": {},
   "outputs": [
    {
     "name": "stdout",
     "output_type": "stream",
     "text": [
      "Training KNN classifier...\n",
      "Training complete!\n"
     ]
    }
   ],
   "source": [
    "print(\"Training KNN classifier...\")\n",
    "knn_clf = trainKNN(model_save_path=\"trained_knn_model.clf\", n_neighbors=8)\n",
    "print(\"Training complete!\")"
   ]
  },
  {
   "cell_type": "code",
   "execution_count": 51,
   "metadata": {},
   "outputs": [],
   "source": [
    "def predictKNN(faces_encodings):\n",
    "    return knn_clf.predict(faces_encodings)[0]"
   ]
  },
  {
   "cell_type": "code",
   "execution_count": 52,
   "metadata": {},
   "outputs": [
    {
     "name": "stdout",
     "output_type": "stream",
     "text": [
      "Corect: Madchen Amick; Prezis: Scarlett Johansson\n",
      "Corect: Katherine Waterston; Prezis: Robin Wright\n",
      "Corect: Dafne Keen; Prezis: Jessica Henwick\n",
      "Corect: Shailene Woodley; Prezis: Jennifer Lawrence\n",
      "Corect: Laura Haddock; Prezis: Madchen Amick\n",
      "Corect: Bryce Dallas Howard; Prezis: Annabelle Wallis\n",
      "Corect: Bryce Dallas Howard; Prezis: Emma Stone\n",
      "Corect: Halston Sage; Prezis: Connie Nielsen\n",
      "Corecte KNN: 2992\n",
      "Totale KNN: 3000\n",
      "Acc KNN: 0.9973333333333333\n"
     ]
    }
   ],
   "source": [
    "total = 0\n",
    "nrCorecte = 0\n",
    "for i in range(len(testX)):\n",
    "    name = predictKNN([testX[i]])\n",
    "    total = total + 1\n",
    "    if name == testY[i]:\n",
    "        nrCorecte = nrCorecte + 1\n",
    "    else:\n",
    "        print(\"Corect: \" + testY[i] + \"; Prezis: \" + name)\n",
    "\n",
    "print(\"Corecte KNN: \" + str(nrCorecte))\n",
    "print(\"Totale KNN: \" + str(total))\n",
    "print(\"Acc KNN: \" + str(nrCorecte/total))"
   ]
  },
  {
   "cell_type": "code",
   "execution_count": 65,
   "metadata": {},
   "outputs": [],
   "source": [
    "def trainSVM(model_save_path=None):\n",
    "\n",
    "    svm_clf = svm.SVC(kernel='linear', C = 0.3)\n",
    "    svm_clf.fit(trainX, trainY)\n",
    "    \n",
    "    if model_save_path is not None:\n",
    "        with open(model_save_path, 'wb') as f:\n",
    "            pickle.dump(svm_clf, f)\n",
    "\n",
    "    return svm_clf"
   ]
  },
  {
   "cell_type": "code",
   "execution_count": 66,
   "metadata": {},
   "outputs": [
    {
     "name": "stdout",
     "output_type": "stream",
     "text": [
      "Training SVM classifier...\n",
      "Training complete!\n"
     ]
    }
   ],
   "source": [
    "print(\"Training SVM classifier...\")\n",
    "svm_clf = trainSVM(model_save_path=\"trained_svm_model.clf\")\n",
    "print(\"Training complete!\")"
   ]
  },
  {
   "cell_type": "code",
   "execution_count": 67,
   "metadata": {},
   "outputs": [],
   "source": [
    "def predictSVM(faces_encodings):\n",
    "    return svm_clf.predict(faces_encodings)[0]"
   ]
  },
  {
   "cell_type": "code",
   "execution_count": 68,
   "metadata": {},
   "outputs": [
    {
     "name": "stdout",
     "output_type": "stream",
     "text": [
      "Corect: Madchen Amick; Prezis: Scarlett Johansson\n",
      "Corect: Katherine Waterston; Prezis: Robin Wright\n",
      "Corect: Dafne Keen; Prezis: Jessica Henwick\n",
      "Corect: Taron Egerton; Prezis: Finn Jones\n",
      "Corect: Shailene Woodley; Prezis: Jennifer Lawrence\n",
      "Corect: Laura Haddock; Prezis: Madchen Amick\n",
      "Corect: Bryce Dallas Howard; Prezis: Annabelle Wallis\n",
      "Corect: Bryce Dallas Howard; Prezis: Emma Stone\n",
      "Corect: Halston Sage; Prezis: Zoey Deutch\n",
      "Corecte KNN: 2991\n",
      "Totale KNN: 3000\n",
      "Acc KNN: 0.997\n"
     ]
    }
   ],
   "source": [
    "total = 0\n",
    "nrCorecte = 0\n",
    "for i in range(len(testX)):\n",
    "    name = predictSVM([testX[i]])\n",
    "    total = total + 1\n",
    "    if name == testY[i]:\n",
    "        nrCorecte = nrCorecte + 1\n",
    "    else:\n",
    "        print(\"Corect: \" + testY[i] + \"; Prezis: \" + name)\n",
    "\n",
    "print(\"Corecte KNN: \" + str(nrCorecte))\n",
    "print(\"Totale KNN: \" + str(total))\n",
    "print(\"Acc KNN: \" + str(nrCorecte/total))"
   ]
  },
  {
   "cell_type": "code",
   "execution_count": null,
   "metadata": {},
   "outputs": [],
   "source": []
  }
 ],
 "metadata": {
  "kernelspec": {
   "display_name": "Python 3",
   "language": "python",
   "name": "python3"
  },
  "language_info": {
   "codemirror_mode": {
    "name": "ipython",
    "version": 3
   },
   "file_extension": ".py",
   "mimetype": "text/x-python",
   "name": "python",
   "nbconvert_exporter": "python",
   "pygments_lexer": "ipython3",
   "version": "3.6.4"
  }
 },
 "nbformat": 4,
 "nbformat_minor": 2
}
